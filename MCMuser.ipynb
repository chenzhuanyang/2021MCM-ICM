{
 "metadata": {
  "language_info": {
   "codemirror_mode": {
    "name": "ipython",
    "version": 3
   },
   "file_extension": ".py",
   "mimetype": "text/x-python",
   "name": "python",
   "nbconvert_exporter": "python",
   "pygments_lexer": "ipython3",
   "version": "3.6.8-final"
  },
  "orig_nbformat": 2,
  "kernelspec": {
   "name": "python36864bita6e133adcd1e45d886e3cdf5747d7530",
   "display_name": "Python 3.6.8 64-bit",
   "language": "python"
  }
 },
 "nbformat": 4,
 "nbformat_minor": 2,
 "cells": [
  {
   "cell_type": "code",
   "execution_count": 1,
   "metadata": {},
   "outputs": [],
   "source": [
    "import tensorflow as tf\n",
    "from tensorflow.keras.models import load_model\n",
    "from tensorflow.keras.preprocessing.image import img_to_array\n",
    "import numpy as np\n",
    "import cv2\n",
    "import time\n"
   ]
  },
  {
   "cell_type": "code",
   "execution_count": 2,
   "metadata": {},
   "outputs": [],
   "source": [
    "model=load_model(r\"C:\\Users\\ASUS\\Desktop\\problem c\\model03_59_0.02.h5\")\n",
    "IMG_SIZE = 64"
   ]
  },
  {
   "cell_type": "code",
   "execution_count": 3,
   "metadata": {},
   "outputs": [],
   "source": [
    "DIR=r\"C:/Users/ASUS/Desktop/problem c/is01.jpg\"\n",
    "# DIR=r\"C:/Users/ASUS/Desktop/problem c/is02.jpg\"\n",
    "# DIR=r\"C:/Users/ASUS/Desktop/problem c/no01.jpg\""
   ]
  },
  {
   "cell_type": "code",
   "execution_count": 4,
   "metadata": {},
   "outputs": [
    {
     "output_type": "stream",
     "name": "stdout",
     "text": [
      "Negative ID Probability:  99.76016879081726\nPredictions:  [0.00239831 0.9976017 ]\n"
     ]
    }
   ],
   "source": [
    "img_array= cv2.imread(DIR) #读取照片\n",
    "\n",
    "image = cv2.resize(img_array, (IMG_SIZE, IMG_SIZE))  \n",
    "image = image.astype(\"float\") / 255.0\n",
    "image = img_to_array(image)\n",
    "image = np.expand_dims(image, axis=0)\n",
    "\n",
    "prob = model.predict(image)[0]\n",
    "\n",
    "print(\"Negative ID Probability: \", prob[1] * 100)\n",
    "print(\"Predictions: \", prob)\n",
    "\n",
    "# prob_show = \"Negative ID Probability: \" + str(prob[1] * 100)\n",
    "# # cv2.namedWindow('input_image', cv2.WINDOW_AUTOSIZE)\n",
    "\n",
    "# cv2.putText(img_array, prob_show, (10, 25),  cv2.FONT_HERSHEY_SIMPLEX,0.7, (0, 255, 0), 2)\n",
    "\n",
    "# cv2.imshow(\"input_image\", img_array)\n",
    "# # cv2.waitKey(0)\n",
    "# key = cv2.waitKey(10)\n",
    "# if key == 27: # exit on ESC\n",
    "#     cv2.destroyAllWindows() \n"
   ]
  },
  {
   "cell_type": "code",
   "execution_count": 5,
   "metadata": {},
   "outputs": [
    {
     "output_type": "execute_result",
     "data": {
      "text/plain": [
       "numpy.float32"
      ]
     },
     "metadata": {},
     "execution_count": 5
    }
   ],
   "source": [
    "type(prob[0])"
   ]
  },
  {
   "cell_type": "code",
   "execution_count": 7,
   "metadata": {},
   "outputs": [
    {
     "output_type": "execute_result",
     "data": {
      "text/plain": [
       "1"
      ]
     },
     "metadata": {},
     "execution_count": 7
    }
   ],
   "source": [
    "len(image)"
   ]
  },
  {
   "cell_type": "code",
   "execution_count": null,
   "metadata": {},
   "outputs": [],
   "source": []
  }
 ]
}