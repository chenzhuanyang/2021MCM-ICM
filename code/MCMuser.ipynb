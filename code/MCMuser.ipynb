{
 "metadata": {
  "language_info": {
   "codemirror_mode": {
    "name": "ipython",
    "version": 3
   },
   "file_extension": ".py",
   "mimetype": "text/x-python",
   "name": "python",
   "nbconvert_exporter": "python",
   "pygments_lexer": "ipython3",
   "version": "3.6.8-final"
  },
  "orig_nbformat": 2,
  "kernelspec": {
   "name": "python36864bita6e133adcd1e45d886e3cdf5747d7530",
   "display_name": "Python 3.6.8 64-bit",
   "language": "python"
  }
 },
 "nbformat": 4,
 "nbformat_minor": 2,
 "cells": [
  {
   "cell_type": "code",
   "execution_count": 1,
   "metadata": {},
   "outputs": [],
   "source": [
    "import tensorflow as tf\n",
    "from tensorflow.keras.models import load_model\n",
    "from tensorflow.keras.preprocessing.image import img_to_array\n",
    "import numpy as np\n",
    "import cv2\n",
    "import time\n"
   ]
  },
  {
   "cell_type": "code",
   "execution_count": 2,
   "metadata": {},
   "outputs": [],
   "source": [
    "#模型1\n",
    "# model=load_model(r\"C:\\Users\\ASUS\\Desktop\\problem c\\model04_06_0.10.h5\") #3 79 0.9 100\n",
    "# model=load_model(r\"C:\\Users\\ASUS\\Desktop\\problem c\\model04_01_0.07.h5\")   #12 77 0.07 100\n",
    "\n",
    "model=load_model(r\"C:\\Users\\ASUS\\Desktop\\problem c\\model04_10_0.10.h5\")   #\n",
    "\n",
    "#模型2\n",
    "# model=load_model(r\"C:\\Users\\ASUS\\Desktop\\problem c\\model04_21_0.06.h5\")   #4 98 1 99\n",
    "# model=load_model(r\"C:\\Users\\ASUS\\Desktop\\problem c\\model04_22_0.06.h5\")    # 6 98 1 99"
   ]
  },
  {
   "cell_type": "code",
   "execution_count": 3,
   "metadata": {},
   "outputs": [
    {
     "output_type": "stream",
     "name": "stdout",
     "text": [
      "Model: \"sequential_2\"\n_________________________________________________________________\nLayer (type)                 Output Shape              Param #   \n=================================================================\nconv2d_14 (Conv2D)           (None, 126, 126, 16)      448       \n_________________________________________________________________\nmax_pooling2d_6 (MaxPooling2 (None, 62, 62, 16)        0         \n_________________________________________________________________\ndropout_8 (Dropout)          (None, 62, 62, 16)        0         \n_________________________________________________________________\nconv2d_15 (Conv2D)           (None, 60, 60, 32)        4640      \n_________________________________________________________________\nconv2d_16 (Conv2D)           (None, 58, 60, 32)        3104      \n_________________________________________________________________\nconv2d_17 (Conv2D)           (None, 58, 58, 32)        3104      \n_________________________________________________________________\nconv2d_18 (Conv2D)           (None, 58, 58, 32)        1056      \n_________________________________________________________________\nmax_pooling2d_7 (MaxPooling2 (None, 28, 28, 32)        0         \n_________________________________________________________________\ndropout_9 (Dropout)          (None, 28, 28, 32)        0         \n_________________________________________________________________\nconv2d_19 (Conv2D)           (None, 26, 26, 64)        18496     \n_________________________________________________________________\nconv2d_20 (Conv2D)           (None, 26, 26, 64)        4160      \n_________________________________________________________________\nmax_pooling2d_8 (MaxPooling2 (None, 12, 12, 64)        0         \n_________________________________________________________________\ndropout_10 (Dropout)         (None, 12, 12, 64)        0         \n_________________________________________________________________\nflatten_2 (Flatten)          (None, 9216)              0         \n_________________________________________________________________\ndense_6 (Dense)              (None, 256)               2359552   \n_________________________________________________________________\ndropout_11 (Dropout)         (None, 256)               0         \n_________________________________________________________________\ndense_7 (Dense)              (None, 128)               32896     \n_________________________________________________________________\ndense_8 (Dense)              (None, 2)                 258       \n=================================================================\nTotal params: 2,427,714\nTrainable params: 2,427,714\nNon-trainable params: 0\n_________________________________________________________________\n"
     ]
    }
   ],
   "source": [
    "model.summary()"
   ]
  },
  {
   "cell_type": "code",
   "execution_count": 3,
   "metadata": {},
   "outputs": [],
   "source": [
    "# DIR=r\"C:/Users/ASUS/Desktop/problem c/Asian_giant_hornets_1.jpg\"\n",
    "# DIR=r\"C:/Users/ASUS/Desktop/problem c/Asian_giant_hornets_2.jpg\"\n",
    "# DIR=r\"C:/Users/ASUS/Desktop/problem c/Asian_giant_hornets_3.jpg\"\n",
    "\n",
    "# DIR=r\"C:/Users/ASUS/Desktop/problem c/Cicada killer.jpg\"\n",
    "# DIR=r\"C:/Users/ASUS/Desktop/problem c/European_hornet.jpg\"\n",
    "# DIR=r\"C:/Users/ASUS/Desktop/problem c/ichneumon.jpg\"\n",
    "# DIR=r\"C:/Users/ASUS/Desktop/problem c/Vespidae.jpg\"\n",
    "DIR=r\"C:/Users/ASUS/Desktop/problem c/Bombus Spp.jpg\"\n",
    "IMG_SIZE = 128"
   ]
  },
  {
   "cell_type": "code",
   "execution_count": 4,
   "metadata": {},
   "outputs": [
    {
     "output_type": "stream",
     "name": "stdout",
     "text": [
      "Negative ID Probability:  99.54606890678406\nPredictions:  [0.00453924 0.9954607 ]\n"
     ]
    }
   ],
   "source": [
    "img_array= cv2.imread(DIR) #读取照片\n",
    "\n",
    "image = cv2.resize(img_array, (IMG_SIZE, IMG_SIZE))  \n",
    "image = image.astype(\"float\") / 255.0\n",
    "image = img_to_array(image)\n",
    "image = np.expand_dims(image, axis=0)\n",
    "\n",
    "prob = model.predict(image)[0]\n",
    "\n",
    "print(\"Negative ID Probability: \", prob[1] * 100)\n",
    "print(\"Predictions: \", prob)\n",
    "\n",
    "prob_show = \"Negative ID Probability: \" + str(prob[1] * 100)\n",
    "# cv2.namedWindow('input_image', cv2.WINDOW_AUTOSIZE)\n",
    "\n",
    "cv2.putText(img_array, prob_show, (10, 25),  cv2.FONT_HERSHEY_SIMPLEX,0.7, (0, 255, 0), 2)\n",
    "\n",
    "cv2.imshow(\"input_image\", img_array)\n",
    "# cv2.waitKey(0)\n",
    "key = cv2.waitKey(10)\n",
    "if key == 27: # exit on ESC\n",
    "    cv2.destroyAllWindows() \n"
   ]
  },
  {
   "cell_type": "code",
   "execution_count": null,
   "metadata": {},
   "outputs": [],
   "source": [
    "DIR1=r\"C:/Users/ASUS/Desktop/problem c/ATT256_47C3AA1B-C9D4-46FA-9D30-39655ACE1604.jpg\"\n",
    "DIR2=r\"C:/Users/ASUS/Desktop/problem c/is01.jpg\"\n",
    "DIR3=r\"C:/Users/ASUS/Desktop/problem c/is02.jpg\"\n",
    "DIR4=r\"C:/Users/ASUS/Desktop/problem c/no01.jpg\"\n",
    "DIR=[DIR1,DIR2,DIR3,DIR4]\n",
    "IMG_SIZE = 128"
   ]
  },
  {
   "cell_type": "code",
   "execution_count": 31,
   "metadata": {},
   "outputs": [
    {
     "output_type": "stream",
     "name": "stdout",
     "text": [
      "第  0  个预测值：\nNegative ID Probability:  61.21554374694824\n\n第  1  个预测值：\nNegative ID Probability:  98.13127517700195\n\n第  2  个预测值：\nNegative ID Probability:  17.09878444671631\n\n第  3  个预测值：\nNegative ID Probability:  99.4565486907959\n\n"
     ]
    }
   ],
   "source": [
    "for i in range(len(DIR)):\n",
    "    img_array= cv2.imread(DIR[i]) #读取照片\n",
    "\n",
    "    image = cv2.resize(img_array, (IMG_SIZE, IMG_SIZE))  \n",
    "    image = image.astype(\"float\") / 255.0\n",
    "    image = img_to_array(image)\n",
    "    image = np.expand_dims(image, axis=0)\n",
    "\n",
    "    prob = model.predict(image)[0]\n",
    "    print('第 ',i,' 个预测值：')\n",
    "    print(\"Negative ID Probability: \", prob[1] * 100)\n",
    "    # print(\"Predictions: \", prob)\n",
    "    print()"
   ]
  },
  {
   "cell_type": "code",
   "execution_count": 5,
   "metadata": {},
   "outputs": [
    {
     "output_type": "execute_result",
     "data": {
      "text/plain": [
       "numpy.float32"
      ]
     },
     "metadata": {},
     "execution_count": 5
    }
   ],
   "source": [
    "type(prob[0])"
   ]
  },
  {
   "cell_type": "code",
   "execution_count": 7,
   "metadata": {},
   "outputs": [
    {
     "output_type": "execute_result",
     "data": {
      "text/plain": [
       "1"
      ]
     },
     "metadata": {},
     "execution_count": 7
    }
   ],
   "source": [
    "len(image)"
   ]
  },
  {
   "cell_type": "code",
   "execution_count": null,
   "metadata": {},
   "outputs": [],
   "source": []
  }
 ]
}